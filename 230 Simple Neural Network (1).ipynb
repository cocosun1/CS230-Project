{
 "cells": [
  {
   "cell_type": "code",
   "execution_count": 57,
   "metadata": {},
   "outputs": [],
   "source": [
    "import math\n",
    "import numpy as np\n",
    "import h5py\n",
    "import matplotlib.pyplot as plt\n",
    "import tensorflow as tf\n",
    "from tensorflow import contrib \n",
    "import pandas as pd\n",
    "from tensorflow.python.framework import ops\n",
    "import urllib\n",
    "import random\n",
    "from math import exp\n",
    "from math import log\n",
    "\n",
    "%matplotlib inline\n"
   ]
  },
  {
   "cell_type": "code",
   "execution_count": 68,
   "metadata": {},
   "outputs": [],
   "source": [
    "# Import and format data helper function\n",
    "def format_data(filename):\n",
    "    training = open(filename)\n",
    "    header = training.readline()\n",
    "    fields = header.strip().replace('\"','').split(',')\n",
    "    featureNames = fields[:-1]\n",
    "    labelName = fields[-1]\n",
    "    lines = [[float(x) for x in l.split(',')] for l in training]\n",
    "    X = [l[:-1] for l in lines]\n",
    "    Y = [l[-1] for l in lines]\n",
    "    X = np.array(X).T\n",
    "    Y = np.array(Y)\n",
    "    Y = Y.astype(int)\n",
    "    nb_classes = 15\n",
    "    Y = np.eye(nb_classes)[Y]\n",
    "    Y = np.roll(Y,2)\n",
    "    print(Y[0,])\n",
    "    return X.T, Y"
   ]
  },
  {
   "cell_type": "code",
   "execution_count": 69,
   "metadata": {},
   "outputs": [
    {
     "name": "stdout",
     "output_type": "stream",
     "text": [
      "[0. 1. 0. 0. 0. 0. 0. 0. 0. 0. 0. 0. 0. 0. 0.]\n",
      "(88616, 15)\n",
      "(88616, 12)\n",
      "[0. 0. 1. 0. 0. 0. 0. 0. 0. 0. 0. 0. 0. 0. 0.]\n",
      "(6129, 15)\n",
      "(6129, 12)\n",
      "[0. 0. 0. 0. 0. 0. 0. 0. 0. 0. 0. 0. 0. 0. 1.]\n",
      "(6129, 15)\n",
      "(6129, 12)\n"
     ]
    }
   ],
   "source": [
    "# Import and Format Training Set\n",
    "X_train, Y_train = format_data('training.csv')\n",
    "\n",
    "# Import and Format Dev Set\n",
    "X_dev, Y_dev = format_data('dev.csv')\n"
   ]
  },
  {
   "cell_type": "code",
   "execution_count": 60,
   "metadata": {},
   "outputs": [],
   "source": [
    "# Create Placeholder needed for latter use\n",
    "def create_placeholders(n_x, n_y):\n",
    "\n",
    "    X = tf.placeholder(tf.float32, [None, n_x])\n",
    "    Y = tf.placeholder(tf.float32, [None, n_y])\n",
    "    \n",
    "    return X, Y"
   ]
  },
  {
   "cell_type": "code",
   "execution_count": 61,
   "metadata": {},
   "outputs": [],
   "source": [
    "# Initialize necessary parameters for NN\n",
    "def initialize_parameters():\n",
    "    W1 = tf.get_variable(\"W1\", [25,12], initializer = tf.contrib.layers.xavier_initializer(seed = 1))\n",
    "    b1 = tf.get_variable(\"b1\", [25,1], initializer = tf.zeros_initializer())\n",
    "    W2 = tf.get_variable(\"W2\", [12, 25], initializer = tf.contrib.layers.xavier_initializer(seed = 1))\n",
    "    b2 = tf.get_variable(\"b2\", [12,1], initializer = tf.zeros_initializer())\n",
    "    W3 = tf.get_variable(\"W3\", [15, 12], initializer = tf.contrib.layers.xavier_initializer(seed = 1))\n",
    "    b3 = tf.get_variable(\"b3\", [15,1], initializer = tf.zeros_initializer())\n",
    "    \n",
    "    parameters = {\"W1\": W1,\n",
    "                  \"b1\": b1,\n",
    "                  \"W2\": W2,\n",
    "                  \"b2\": b2,\n",
    "                  \"W3\": W3,\n",
    "                  \"b3\": b3}\n",
    "    \n",
    "    return parameters"
   ]
  },
  {
   "cell_type": "code",
   "execution_count": 62,
   "metadata": {},
   "outputs": [],
   "source": [
    "# Forward_propagation Function\n",
    "def forward_propagation(X, parameters):    \n",
    "    W1 = parameters['W1']\n",
    "    b1 = parameters['b1']\n",
    "    W2 = parameters['W2']\n",
    "    b2 = parameters['b2']\n",
    "    W3 = parameters['W3']\n",
    "    b3 = parameters['b3']\n",
    "    \n",
    "    Z1 = tf.add(tf.matmul(W1,tf.transpose(X)),b1)                                             # Z1 = np.dot(W1, X) + b1\n",
    "    A1 = tf.nn.relu(Z1)                                              # A1 = relu(Z1)\n",
    "    Z2 = tf.add(tf.matmul(W2,A1),b2)                                               # Z2 = np.dot(W2, a1) + b2\n",
    "    A2 = tf.nn.relu(Z2)                                               # A2 = relu(Z2)\n",
    "    Z3 = tf.add(tf.matmul(W3,A2),b3)      \n",
    "    return Z3"
   ]
  },
  {
   "cell_type": "code",
   "execution_count": 63,
   "metadata": {},
   "outputs": [],
   "source": [
    "# Compute_cost using softmax cross entropy\n",
    "def compute_cost(Z, Y):\n",
    "    logits = tf.transpose(Z)\n",
    "    labels = Y\n",
    "    cost = tf.reduce_mean(tf.nn.softmax_cross_entropy_with_logits(logits = logits, labels = labels))\n",
    "    return cost"
   ]
  },
  {
   "cell_type": "code",
   "execution_count": 94,
   "metadata": {},
   "outputs": [],
   "source": [
    "# Calculating the false and negative positive/negative existed in the prediction\n",
    "# Used for latter calculation of evaluation metrics\n",
    "\n",
    "def model_eval(predict_op, truth_label):\n",
    "    counter_correct, counter_tp, counter_fn, counter_fp, counter_tn = np.zeros(5)\n",
    "    total_prediction = truth_label.shape[0]\n",
    "    for group in range(truth_label.shape[0]):\n",
    "        if (truth_label[group] > 3 and predict_op[group] > 3):\n",
    "            counter_tn += 1\n",
    "        if (truth_label[group] <= 3 and predict_op[group] <= 3):\n",
    "            counter_tp += 1\n",
    "        if (truth_label[group] > 3 and predict_op[group] <= 3):\n",
    "            counter_fp += 1\n",
    "        if (truth_label[group] <= 3 and predict_op[group] > 3):\n",
    "            counter_fn += 1\n",
    "        if (truth_label[group] == predict_op[group]):\n",
    "            counter_correct += 1\n",
    " \n",
    "    return counter_correct, counter_tp, counter_fn, counter_fp, counter_tn \n",
    "        \n",
    "    "
   ]
  },
  {
   "cell_type": "code",
   "execution_count": 95,
   "metadata": {},
   "outputs": [],
   "source": [
    "# Calculate evaluation metrics of the model\n",
    "def model_metrics(counter_tp, counter_fn, counter_fp, counter_tn):\n",
    "\n",
    "    binary_accuracy = (counter_tp + counter_tn)/(counter_tp + counter_tn + counter_fp + counter_fn)\n",
    "    binary_precision = (counter_tp)/(counter_tp + counter_fp)\n",
    "    binary_recall = (counter_tp)/(counter_tp + counter_fn)\n",
    "    f_1 = (2*binary_precision*binary_recall)/(binary_precision + binary_recall)\n",
    "    \n",
    "    return binary_accuracy, f_1"
   ]
  },
  {
   "cell_type": "code",
   "execution_count": 108,
   "metadata": {},
   "outputs": [],
   "source": [
    "# Building the NN model\n",
    "def model(X_train, Y_train, X_dev, Y_dev, X_test, Y_test, learning_rate = 0.00001,\n",
    "          num_epochs = 20, minibatch_size = 32, print_cost = True):\n",
    "       \n",
    "    ops.reset_default_graph()                         # to be able to rerun the model without overwriting tf variables\n",
    "    (m, n_x) = X_train.shape                          # (n_x: input size, m : number of examples in the train set)\n",
    "    n_y = Y_train.shape[1]                            # n_y : output size\n",
    "    (m_dev, n_x_dev) = X_dev.shape                          # (n_x: input size, m : number of examples in the train set)\n",
    "    n_y_dev = Y_dev.shape[1]                            # n_y : output size\n",
    "    training_costs = []                                        # To keep track of the cost\n",
    "    dev_costs = []\n",
    "    \n",
    "    tfe = contrib.eager\n",
    "    \n",
    "    # Create Placeholders of shape (n_x, n_y)\n",
    "    X, Y = create_placeholders(n_x, n_y)\n",
    "    X_dev_PH, Y_dev_PH = create_placeholders(n_x_dev, n_y_dev)\n",
    "\n",
    "    # Initialize parameters\n",
    "    parameters = initialize_parameters()\n",
    "    \n",
    "    # Forward propagation: Build the forward propagation in the tensorflow graph\n",
    "    Z = forward_propagation(X, parameters)\n",
    "    \n",
    "    # Cost function: Add cost function to tensorflow graph\n",
    "    cost = compute_cost(Z, Y)\n",
    "    \n",
    "    # Backpropagation: Define the tensorflow optimizer. Use an AdamOptimizer.\n",
    "    optimizer = tf.train.AdamOptimizer(learning_rate = learning_rate).minimize(cost)\n",
    "    \n",
    "    # Initialize all the variables\n",
    "    init = tf.global_variables_initializer()\n",
    "   \n",
    "    #Mini Batch\n",
    "    X_minibatches = np.array_split(X_train, int(X_train.shape[0]/128))\n",
    "    Y_minibatches = np.array_split(Y_train, int(Y_train.shape[0]/128))\n",
    "    # Start the session to compute the tensorflow graph\n",
    "    with tf.Session() as sess:\n",
    "        \n",
    "        # Run the initialization\n",
    "        sess.run(init)\n",
    "        \n",
    "        # Do the training loop\n",
    "        for epoch in range(num_epochs):\n",
    "            \n",
    "            for minibatch in range(len(Y_minibatches)):\n",
    "                _ , training_cost = sess.run([optimizer, cost], feed_dict={X: X_minibatches[minibatch], Y: Y_minibatches[minibatch]}) \n",
    "            if print_cost == True and epoch % 10 == 0 and epoch > 10:\n",
    "                dev_cost = sess.run(cost, feed_dict={X: X_dev, Y: Y_dev})\n",
    "                training_costs.append(training_cost)\n",
    "                dev_costs.append(dev_cost)\n",
    "                print (\"Training Cost after epoch %i: %f\" % (epoch, training_cost))\n",
    "                print (\"Dev Cost after epoch %i: %f\" % (epoch, dev_cost))\n",
    "                \n",
    "\n",
    "        \n",
    "        # plot the training cost\n",
    "        plt.plot(np.squeeze(training_costs))\n",
    "        plt.ylabel('training cost')\n",
    "        plt.xlabel('iterations (per tens)')\n",
    "        plt.title(\"Learning rate =\" + str(learning_rate))\n",
    "        plt.show()\n",
    "        \n",
    "        # plot the dev cost\n",
    "        plt.plot(np.squeeze(dev_costs))\n",
    "        plt.ylabel('dev cost')\n",
    "        plt.xlabel('iterations (per tens)')\n",
    "        plt.title(\"Learning rate =\" + str(learning_rate))\n",
    "        plt.show()\n",
    "        \n",
    "        # Evaluate on Training set\n",
    "        counter_correct, counter_tp, counter_fn, counter_fp, counter_tn = np.zeros(5)\n",
    "        print(len(Y_minibatches))\n",
    "        for minibatch in range(len(Y_minibatches)):\n",
    "            predict = tf.argmax(Z, 0)\n",
    "            predict_op = predict.eval({X: X_minibatches[minibatch], Y: Y_minibatches[minibatch]})\n",
    "            truth_label = np.argmax(Y_minibatches[minibatch], 1)\n",
    "            counter_correct_m, counter_tp_m, counter_fn_m, counter_fp_m, counter_tn_m = model_eval(predict_op, truth_label)\n",
    "            counter_tp += counter_tp_m\n",
    "            counter_fn += counter_fn_m\n",
    "            counter_fp += counter_fp_m\n",
    "            counter_tn += counter_tn_m\n",
    "            counter_correct += counter_correct_m\n",
    "        \n",
    "        print(\"counter_tp: \", counter_tp)\n",
    "        print(\"counter_tn: \", counter_tn)\n",
    "        print(\"counter_fp: \", counter_fp)\n",
    "        print(\"counter_fn: \", counter_fn)\n",
    "        print(\"counter_correct: \", counter_correct)\n",
    "        \n",
    "        train_binary_accuracy, train_f_1 = model_metrics(counter_tp, counter_fn, counter_fp, counter_tn)\n",
    "        train_accuracy = counter_correct/X_train.shape[0]\n",
    "        print(\"Train Accuracy:\", train_accuracy)\n",
    "        print(\"Train Accuracy (binary): \", train_binary_accuracy)\n",
    "        print(\"Train F-1 (binary): \", train_f_1)\n",
    "\n",
    "        # Evaluate on Dev set\n",
    "        predict = tf.argmax(Z, 0)\n",
    "        predict_op = predict.eval({X: X_dev, Y: Y_dev})\n",
    "        \n",
    "        print(predict_op)\n",
    "        print(predict_op.shape)\n",
    "        \n",
    "        truth_label = np.argmax(Y_dev, 1)\n",
    "        print(truth_label)\n",
    "        print(truth_label.shape)\n",
    "        counter_correct, counter_tp, counter_fn, counter_fp, counter_tn = model_eval(predict_op, truth_label)\n",
    "        dev_binary_accuracy, dev_f_1 = model_metrics(counter_tp, counter_fn, counter_fp, counter_tn)\n",
    "        dev_accuracy = counter_correct/X_dev.shape[0]\n",
    "        print(\"Dev Accuracy:\", dev_accuracy)\n",
    "        print(\"Dev Accuracy (binary): \", dev_binary_accuracy)\n",
    "        print(\"Dev F-1 (binary): \", dev_f_1)\n",
    "        return parameters"
   ]
  },
  {
   "cell_type": "code",
   "execution_count": 109,
   "metadata": {},
   "outputs": [
    {
     "data": {
      "image/png": "[encoded data removed]",
      "text/plain": [
       "<Figure size 432x288 with 1 Axes>"
      ]
     },
     "metadata": {},
     "output_type": "display_data"
    },
    {
     "data": {
      "image/png": "[encoded data removed]",
      "text/plain": [
       "<Figure size 432x288 with 1 Axes>"
      ]
     },
     "metadata": {},
     "output_type": "display_data"
    },
    {
     "name": "stdout",
     "output_type": "stream",
     "text": [
      "692\n",
      "counter_tp:  74667.0\n",
      "counter_tn:  601.0\n",
      "counter_fp:  8321.0\n",
      "counter_fn:  5027.0\n",
      "counter_correct:  39976.0\n",
      "Train Accuracy: 0.451114922813036\n",
      "Train Accuracy (binary):  0.8493725738015708\n",
      "Train F-1 (binary):  0.9179503571384664\n",
      "[1 1 1 ... 1 1 1]\n",
      "(6129,)\n",
      "[ 2  0  1 ...  4  2 14]\n",
      "(6129,)\n",
      "Dev Accuracy: 0.3662914015336923\n",
      "Dev Accuracy (binary):  0.7798988415728504\n",
      "Dev F-1 (binary):  0.8750347383047706\n"
     ]
    }
   ],
   "source": [
    "parameters = model(X_train, Y_train, X_dev, Y_dev, X_test, Y_test)"
   ]
  },
  {
   "cell_type": "code",
   "execution_count": null,
   "metadata": {},
   "outputs": [],
   "source": []
  },
  {
   "cell_type": "code",
   "execution_count": null,
   "metadata": {},
   "outputs": [],
   "source": []
  },
  {
   "cell_type": "code",
   "execution_count": null,
   "metadata": {},
   "outputs": [],
   "source": []
  }
 ],
 "metadata": {
  "kernelspec": {
   "display_name": "Python 3",
   "language": "python",
   "name": "python3"
  },
  "language_info": {
   "codemirror_mode": {
    "name": "ipython",
    "version": 3
   },
   "file_extension": ".py",
   "mimetype": "text/x-python",
   "name": "python",
   "nbconvert_exporter": "python",
   "pygments_lexer": "ipython3",
   "version": "3.6.5"
  }
 },
 "nbformat": 4,
 "nbformat_minor": 2
}
