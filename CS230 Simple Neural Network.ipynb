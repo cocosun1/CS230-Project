{
 "cells": [
  {
   "cell_type": "code",
   "execution_count": 1,
   "metadata": {},
   "outputs": [],
   "source": [
    "import math\n",
    "import numpy as np\n",
    "import h5py\n",
    "import matplotlib.pyplot as plt\n",
    "import tensorflow as tf\n",
    "from tensorflow import contrib \n",
    "import pandas as pd\n",
    "from tensorflow.python.framework import ops\n",
    "import urllib\n",
    "import random\n",
    "from math import exp\n",
    "from math import log\n",
    "\n",
    "%matplotlib inline\n",
    "np.random.seed(1)"
   ]
  },
  {
   "cell_type": "code",
   "execution_count": null,
   "metadata": {},
   "outputs": [],
   "source": [
    "\n"
   ]
  },
  {
   "cell_type": "code",
   "execution_count": 2,
   "metadata": {},
   "outputs": [],
   "source": [
    "# Format data\n",
    "def format_data(filename):\n",
    "    training = open(filename)\n",
    "    header = training.readline()\n",
    "    fields = header.strip().replace('\"','').split(',')\n",
    "    featureNames = fields[:-1]\n",
    "    labelName = fields[-1]\n",
    "    lines = [[float(x) for x in l.split(',')] for l in training]\n",
    "    X = [l[:-1] for l in lines]\n",
    "    Y = [l[-1] for l in lines]\n",
    "    X = np.matrix(X).T\n",
    "    Y = np.array(Y)\n",
    "    Y = Y.astype(int)\n",
    "    nb_classes = 15\n",
    "    Y = np.eye(nb_classes)[Y]\n",
    "    Y = Y.T\n",
    "    print(Y.T[2,])\n",
    "    return X, Y"
   ]
  },
  {
   "cell_type": "code",
   "execution_count": 3,
   "metadata": {},
   "outputs": [
    {
     "name": "stdout",
     "output_type": "stream",
     "text": [
      "[1. 0. 0. 0. 0. 0. 0. 0. 0. 0. 0. 0. 0. 0. 0.]\n",
      "(15, 10224)\n",
      "(12, 10224)\n",
      "[0. 0. 0. 0. 0. 0. 0. 0. 0. 0. 0. 0. 0. 0. 1.]\n",
      "(15, 1281)\n",
      "(12, 1281)\n",
      "[0. 0. 0. 0. 0. 0. 0. 1. 0. 0. 0. 0. 0. 0. 0.]\n",
      "(15, 1274)\n",
      "(12, 1274)\n"
     ]
    }
   ],
   "source": [
    "# Format Training Set\n",
    "X_train, Y_train = format_data('training.csv')\n",
    "print(Y_train.shape)\n",
    "print(X_train.shape)\n",
    "\n",
    "# Format Dev Set\n",
    "X_dev, Y_dev = format_data('dev.csv')\n",
    "print(Y_dev.shape)\n",
    "print(X_dev.shape)\n",
    "\n",
    "# Format Test Set\n",
    "X_test, Y_test = format_data('test.csv')\n",
    "print(Y_test.shape)\n",
    "print(X_test.shape)"
   ]
  },
  {
   "cell_type": "code",
   "execution_count": 4,
   "metadata": {
    "scrolled": false
   },
   "outputs": [],
   "source": [
    "def create_placeholders(n_x, n_y):\n",
    "\n",
    "    X = tf.placeholder(tf.float32, [n_x, None])\n",
    "    Y = tf.placeholder(tf.float32, [n_y, None])\n",
    "    \n",
    "    return X, Y"
   ]
  },
  {
   "cell_type": "code",
   "execution_count": 5,
   "metadata": {},
   "outputs": [],
   "source": [
    "def initialize_parameters():\n",
    "    W1 = tf.get_variable(\"W1\", [25,12], initializer = tf.contrib.layers.xavier_initializer(seed = 1))\n",
    "    b1 = tf.get_variable(\"b1\", [25,1], initializer = tf.zeros_initializer())\n",
    "    W2 = tf.get_variable(\"W2\", [12, 25], initializer = tf.contrib.layers.xavier_initializer(seed = 1))\n",
    "    b2 = tf.get_variable(\"b2\", [12,1], initializer = tf.zeros_initializer())\n",
    "    W3 = tf.get_variable(\"W3\", [15, 12], initializer = tf.contrib.layers.xavier_initializer(seed = 1))\n",
    "    b3 = tf.get_variable(\"b3\", [15,1], initializer = tf.zeros_initializer())\n",
    "    \n",
    "    parameters = {\"W1\": W1,\n",
    "                  \"b1\": b1,\n",
    "                  \"W2\": W2,\n",
    "                  \"b2\": b2,\n",
    "                  \"W3\": W3,\n",
    "                  \"b3\": b3}\n",
    "    \n",
    "    return parameters"
   ]
  },
  {
   "cell_type": "code",
   "execution_count": 6,
   "metadata": {},
   "outputs": [],
   "source": [
    "def forward_propagation(X, parameters):    \n",
    "    W1 = parameters['W1']\n",
    "    b1 = parameters['b1']\n",
    "    W2 = parameters['W2']\n",
    "    b2 = parameters['b2']\n",
    "    W3 = parameters['W3']\n",
    "    b3 = parameters['b3']\n",
    "    \n",
    "    Z1 = tf.add(tf.matmul(W1,X),b1)                                             # Z1 = np.dot(W1, X) + b1\n",
    "    A1 = tf.nn.relu(Z1)                                              # A1 = relu(Z1)\n",
    "    Z2 = tf.add(tf.matmul(W2,A1),b2)                                               # Z2 = np.dot(W2, a1) + b2\n",
    "    A2 = tf.nn.relu(Z2)                                               # A2 = relu(Z2)\n",
    "    Z3 = tf.add(tf.matmul(W3,A2),b3)   \n",
    "    return Z3"
   ]
  },
  {
   "cell_type": "code",
   "execution_count": 7,
   "metadata": {},
   "outputs": [],
   "source": [
    "def compute_cost(Z, Y):\n",
    "    logits = tf.transpose(Z)\n",
    "    labels = tf.transpose(Y)\n",
    "    cost = tf.reduce_mean(tf.nn.softmax_cross_entropy_with_logits_v2(logits = logits, labels = labels))\n",
    "    return cost"
   ]
  },
  {
   "cell_type": "code",
   "execution_count": null,
   "metadata": {},
   "outputs": [],
   "source": []
  },
  {
   "cell_type": "code",
   "execution_count": 23,
   "metadata": {},
   "outputs": [],
   "source": [
    "def model(X_train, Y_train, X_dev, Y_dev, X_test, Y_test, learning_rate = 0.0001,\n",
    "          num_epochs = 500, minibatch_size = 32, print_cost = True):\n",
    "       \n",
    "    ops.reset_default_graph()                         # to be able to rerun the model without overwriting tf variables\n",
    "    (n_x, m) = X_train.shape                          # (n_x: input size, m : number of examples in the train set)\n",
    "    n_y = Y_train.shape[0]                            # n_y : output size\n",
    "    (n_x_dev, m_dev) = X_dev.shape                          # (n_x: input size, m : number of examples in the train set)\n",
    "    n_y_dev = Y_dev.shape[0]                            # n_y : output size\n",
    "    training_costs = []                                        # To keep track of the cost\n",
    "    dev_costs = []\n",
    "    \n",
    "    tfe = contrib.eager\n",
    "    \n",
    "    # Create Placeholders of shape (n_x, n_y)\n",
    "    X, Y = create_placeholders(n_x, n_y)\n",
    "    X_dev_PH, Y_dev_PH = create_placeholders(n_x_dev, n_y_dev)\n",
    "\n",
    "    # Initialize parameters\n",
    "    parameters = initialize_parameters()\n",
    "    \n",
    "    # Forward propagation: Build the forward propagation in the tensorflow graph\n",
    "    Z = forward_propagation(X, parameters)\n",
    "    \n",
    "    # Cost function: Add cost function to tensorflow graph\n",
    "    cost = compute_cost(Z, Y)\n",
    "    \n",
    "    # Backpropagation: Define the tensorflow optimizer. Use an AdamOptimizer.\n",
    "    optimizer = tf.train.AdamOptimizer(learning_rate = learning_rate).minimize(cost)\n",
    "    \n",
    "    # Initialize all the variables\n",
    "    init = tf.global_variables_initializer()\n",
    "\n",
    "    # Start the session to compute the tensorflow graph\n",
    "    with tf.Session() as sess:\n",
    "        \n",
    "        # Run the initialization\n",
    "        sess.run(init)\n",
    "        \n",
    "        # Do the training loop\n",
    "        for epoch in range(num_epochs):\n",
    "            \n",
    "            # Run the session to execute the \"optimizer\" and the \"cost\", the feedict should contain a minibatch for (X,Y).\n",
    "            _ , training_cost = sess.run([optimizer, cost], feed_dict={X: X_train, \n",
    "                                                                       Y: Y_train})\n",
    "\n",
    "            # Print the training and dev cost at every 1000 epoch\n",
    "            if print_cost == True and epoch % 500 == 0:\n",
    "                print (\"Training Cost after epoch %i: %f\" % (epoch, training_cost))\n",
    "                Z_dev = forward_propagation(X_dev_PH, parameters)\n",
    "                dev_cost_temp = compute_cost(Z_dev, Y_dev_PH)\n",
    "                dev_cost = sess.run(dev_cost_temp, feed_dict = {X_dev_PH: X_dev, Y_dev_PH: Y_dev})\n",
    "                print (\"Dev Cost after epoch %i: %f\" % (epoch, dev_cost))\n",
    "  #              Y_hat_train = tf.nn.softmax(forward_propagation(X, parameters))\n",
    "        \n",
    "   #             print(sess.run(Y_hat_train, feed_dict = {X: X_train}).T[2,])\n",
    "    #            print(Y_train.T[2,])\n",
    "            \n",
    "        #        train_correct_prediction = tf.equal(tf.argmax(Y, 0), tf.argmax(Y_hat_train, 0))\n",
    "       #         train_accuracy = tf.reduce_mean(tf.cast(train_correct_prediction, tf.float32))\n",
    "      #          Y_hat_dev = tf.nn.softmax(forward_propagation(X_dev_PH, parameters))\n",
    "     #           dev_correct_prediction = tf.equal(tf.argmax(Y_dev_PH, 0), tf.argmax(Y_hat_dev, 0))\n",
    "    #            dev_accuracy = tf.reduce_mean(tf.cast(dev_correct_prediction, tf.float32))\n",
    "        \n",
    "   #             train_eval, dev_eval = sess.run([train_accuracy, dev_accuracy], feed_dict = {X: X_train, X_dev_PH: X_dev, Y: Y_train, Y_dev_PH: Y_dev})\n",
    "   #             print(\"Training set accuracy: \" + str(train_eval))\n",
    "   #             print(\"Dev set accuracy: \" + str(dev_eval))\n",
    "            if print_cost == True and epoch % 5 == 0:\n",
    "                training_costs.append(training_cost)\n",
    "                dev_costs.append(dev_cost)\n",
    "             \n",
    "        # plot the training cost\n",
    "        plt.plot(np.squeeze(training_costs))\n",
    "        plt.ylabel('training cost')\n",
    "        plt.xlabel('iterations (per tens)')\n",
    "        plt.title(\"Learning rate =\" + str(learning_rate))\n",
    "        plt.show()\n",
    "        \n",
    "        # plot the dev cost\n",
    "        plt.plot(np.squeeze(dev_costs))\n",
    "        plt.ylabel('Dev cost')\n",
    "        plt.xlabel('iterations (per tens)')\n",
    "        plt.title(\"Learning rate =\" + str(learning_rate))\n",
    "        plt.show()\n",
    "\n",
    "        # lets save the parameters in a variable\n",
    "        parameters = sess.run(parameters)\n",
    "        print (\"Parameters have been trained!\")\n",
    "        \n",
    "        #Evaluate Accuracy\n",
    "        Y_hat_train = tf.nn.softmax(forward_propagation(X, parameters))\n",
    "        train_correct_prediction = tf.equal(tf.argmax(Y, 0), tf.argmax(Y_hat_train, 0))\n",
    "        train_accuracy = tf.reduce_mean(tf.cast(train_correct_prediction, tf.float32))\n",
    "        \n",
    "        #print(sess.run(tf.argmax(Y_hat_train, 0), feed_dict = {X: X_train}))\n",
    "\n",
    "        \n",
    "        Y_hat_dev = tf.nn.softmax(forward_propagation(X_dev_PH, parameters))\n",
    "        dev_correct_prediction = tf.equal(tf.argmax(Y_dev_PH, 0), tf.argmax(Y_hat_dev, 0))\n",
    "        dev_accuracy = tf.reduce_mean(tf.cast(dev_correct_prediction, tf.float32))\n",
    "        \n",
    "        train_eval, dev_eval = sess.run([train_accuracy, dev_accuracy], feed_dict = {X: X_train, X_dev_PH: X_dev, Y: Y_train, Y_dev_PH: Y_dev})\n",
    "        \n",
    "        \n",
    "  #      Z = tf.nn.softmax(forward_propagation(X, parameters))\n",
    "  #      prediction = tf.argmax(Z, 0)\n",
    "   #    a, b = tf.metrics.accuracy(labels = tf.argmax(Y,0), predictions = prediction)\n",
    "   #     print(sess.run([a], feed_dict = {X: X_train, Y: Y_train}))\n",
    "\n",
    "        #predict = sess.run(prediction, feed_dict = {X: X_train})\n",
    "  #     test_accuracy(prediction, Y_train)\n",
    "   #     print(\"train set\" .format(test_accuracy.result()))\n",
    "  #      \n",
    "        print(\"Training set accuracy: \" + str(train_eval))\n",
    "        print(\"Dev set accuracy: \" + str(dev_eval))\n",
    "        return parameters"
   ]
  },
  {
   "cell_type": "code",
   "execution_count": null,
   "metadata": {},
   "outputs": [],
   "source": []
  },
  {
   "cell_type": "code",
   "execution_count": 24,
   "metadata": {},
   "outputs": [
    {
     "name": "stdout",
     "output_type": "stream",
     "text": [
      "Training Cost after epoch 0: 880.132812\n",
      "Dev Cost after epoch 0: 882.335876\n"
     ]
    },
    {
     "data": {
      "image/png": "[encoded data removed]",
      "text/plain": [
       "<Figure size 432x288 with 1 Axes>"
      ]
     },
     "metadata": {
      "needs_background": "light"
     },
     "output_type": "display_data"
    },
    {
     "data": {
      "image/png": "[encoded data removed]",
      "text/plain": [
       "<Figure size 432x288 with 1 Axes>"
      ]
     },
     "metadata": {
      "needs_background": "light"
     },
     "output_type": "display_data"
    },
    {
     "name": "stdout",
     "output_type": "stream",
     "text": [
      "Parameters have been trained!\n",
      "Training set accuracy: 0.08558294\n",
      "Dev set accuracy: 0.07962529\n"
     ]
    }
   ],
   "source": [
    "parameters = model(X_train, Y_train, X_dev, Y_dev, X_test, Y_test)"
   ]
  },
  {
   "cell_type": "code",
   "execution_count": null,
   "metadata": {},
   "outputs": [],
   "source": []
  },
  {
   "cell_type": "code",
   "execution_count": null,
   "metadata": {},
   "outputs": [],
   "source": []
  },
  {
   "cell_type": "code",
   "execution_count": null,
   "metadata": {},
   "outputs": [],
   "source": []
  }
 ],
 "metadata": {
  "kernelspec": {
   "display_name": "Python 3",
   "language": "python",
   "name": "python3"
  },
  "language_info": {
   "codemirror_mode": {
    "name": "ipython",
    "version": 3
   },
   "file_extension": ".py",
   "mimetype": "text/x-python",
   "name": "python",
   "nbconvert_exporter": "python",
   "pygments_lexer": "ipython3",
   "version": "3.7.1"
  }
 },
 "nbformat": 4,
 "nbformat_minor": 2
}
